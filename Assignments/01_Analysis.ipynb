{
 "cells": [
  {
   "cell_type": "markdown",
   "metadata": {
    "collapsed": true
   },
   "source": [
    "# Introductory applied machine learning (INFR10069)"
   ]
  },
  {
   "cell_type": "markdown",
   "metadata": {},
   "source": [
    "# Assignment 1: Data analysis and visualisation"
   ]
  },
  {
   "cell_type": "markdown",
   "metadata": {},
   "source": [
    "## Important Instructions\n",
    "\n",
    "**It is important that you follow the instructions below to the letter - we will not be responsible for incorrect marking due to non-standard practices.**\n",
    "\n",
    "1. You *MUST* have your environment set up as in the [README](https://github.com/michael-camilleri/IAML2018) and you *must activate this environment before running this notebook*:\n",
    "```\n",
    "source activate py3iaml\n",
    "cd [DIRECTORY CONTAINING GIT REPOSITORY]\n",
    "jupyter notebook\n",
    "# Navigate to this file\n",
    "```\n",
    "\n",
    "1. Read the instructions carefully, especially where asked to name variables with a specific name. Wherever you are required to produce code you should use code cells, otherwise you should use markdown cells to report results and explain answers. In most cases we indicate the nature of answer we are expecting (code/text), and also provide the code/markdown cell where to put it\n",
    "\n",
    "1. There are some questions which are **specific to those taking the Level-11 version** of the course (INFR11182 and INFR11152). These are clearly marked with the words **(LEVEL 11)** and must be completed by those taking the Level 11 course. Those on the Level 10 version (INFR10069) may (and are advised to) attempt such questions but this will not affect their mark in any way, nor will they get feedback on them.\n",
    "\n",
    "1. The .csv files that you will be using are located at `./datasets` (i.e. use the `datasets` directory **adjacent** to this file).\n",
    "\n",
    "1. Keep your answers brief and concise. Most written questions can be answered with 2-3 lines of explanation.\n",
    "\n",
    "1. Make sure to show **all** your code/working. \n",
    "\n",
    "1. Write readable code. While we do not expect you to follow [PEP8](https://www.python.org/dev/peps/pep-0008/) to the letter, the code should be adequately understandable, with plots/visualisations correctly labelled. **Do** use inline comments when doing something non-standard. When asked to present numerical values, make sure to represent real numbers in the appropriate precision to exemplify your answer. Marks *WILL* be deducted if the marker cannot understand your logic/results.\n",
    "\n",
    "1. **Collaboration:** You may discuss the assignment with your colleagues, provided that the writing that you submit is entirely your own. That is, you should NOT borrow actual text or code from other students. We ask that you provide a list of the people who you've had discussions with (if any).\n",
    "\n",
    "### SUBMISSION Mechanics\n",
    "\n",
    "**IMPORTANT:** You must submit this assignment by **Thursday 18/10/2018 at 16:00**. \n",
    "\n",
    "**Late submissions:** The policy stated in the School of Informatics is that normally you will not be allowed to submit coursework late. See the [ITO webpage](http://web.inf.ed.ac.uk/infweb/student-services/ito/admin/coursework-projects/late-coursework-extension-requests) for exceptions to this, e.g. in case of serious medical illness or serious personal problems.\n",
    "\n",
    "**Resubmission:** If you submit your file again, the previous submission is **overwritten**. We will mark the version that is in the submission folder at the deadline.\n",
    "\n",
    "All submissions happen electronically. To submit:\n",
    "\n",
    "1. Fill out this notebook, and save it, making sure to **KEEP the name of the file UNCHANGED**.\n",
    "\n",
    "1. On a DICE environment, open the terminal, navigate to the location of this notebook, and submit this notebook file using the following command:\n",
    "\n",
    "  ```submit iaml cw1 \"01_Analysis.ipynb\"```\n",
    "\n",
    "  What actually happens in the background is that your file is placed in a folder available to markers. If you submit a file with the same name into the same location, **it will *overwrite* your previous submission**. You can check the status of your submissions with the `show_submissions` command.\n",
    "  \n",
    "1. **Distance Learners:** To copy your work onto DICE (so that you can use the `submit` command) you can use `scp` or `rsync` (you may need to install these yourself). You can copy files to `student.ssh.inf.ed.ac.uk`, then ssh into it in order to submit. The following is an example (replace entries in `[square brackets]` with your specific details):\n",
    "```\n",
    "filename=\"01_Analysis.ipynb\"\n",
    "local_scp_filepath=[DIRECTORY CONTAINING GIT REPOSITORY]${filename}\n",
    "server_address=student.ssh.inf.ed.ac.uk\n",
    "scp -r ${local_scp_filepath} [YOUR USERNAME]@${server_address}:${filename}\n",
    "# rsync -rl ${local_scp_filepath} [YOUR USERNAME]@${server_address}:${filename}\n",
    "ssh [YOUR USERNAME]@${server_address}\n",
    "ssh student.login\n",
    "submit iaml cw1 \"01_Analysis.ipynb\"\n",
    "```\n",
    "\n",
    "### Marking Breakdown\n",
    "\n",
    "The Level 10 and Level 11 points are marked out of different totals, however these are all normalised to 100%.\n",
    "\n",
    "**70-100%** results/answer correct plus extra achievement at understanding or analysis of results. Clear explanations, evidence of creative or deeper thought will contribute to a higher grade.\n",
    "\n",
    "**60-69%** results/answer correct or nearly correct and well explained.\n",
    "\n",
    "**50-59%** results/answer in right direction but significant errors.\n",
    "\n",
    "**40-49%** some evidence that the student has gained some understanding, but not answered the questions\n",
    "properly.\n",
    "\n",
    "**0-39%** serious error or slack work.\n",
    "\n",
    "Note that while this is not a programming assignment, in questions which involve visualisation of results and/or long cold snippets, some marks may be deducted if the code is not adequately readable."
   ]
  },
  {
   "cell_type": "markdown",
   "metadata": {},
   "source": [
    "## Imports\n",
    "\n",
    "Execute the cell below to import all packages you will be using in the rest of the assignemnt."
   ]
  },
  {
   "cell_type": "code",
   "execution_count": 2,
   "metadata": {},
   "outputs": [],
   "source": [
    "%matplotlib inline\n",
    "\n",
    "import os\n",
    "import sys\n",
    "import sklearn\n",
    "import numpy as np\n",
    "import pandas as pd\n",
    "import matplotlib.pyplot as plt\n",
    "import seaborn as sns\n",
    "from sklearn.metrics import accuracy_score\n",
    "from sklearn.naive_bayes import GaussianNB\n",
    "from sklearn.metrics import confusion_matrix\n",
    "\n",
    "sys.path.append('..')\n",
    "from utils.plotter import scatter_jitter, plot_confusion_matrix"
   ]
  },
  {
   "cell_type": "markdown",
   "metadata": {},
   "source": [
    "## Description of the dataset\n",
    "\n",
    "This assignment is based on the 20 Newsgroups Dataset. This dataset is a collection of approximately 20,000 newsgroup documents, partitioned (nearly) evenly across 20 different newsgroups, each corresponding to a different topic. Some of the newsgroups are very closely related to each other (e.g. comp.sys.ibm.pc.hardware, comp.sys.mac.hardware), while others are highly unrelated (e.g misc.forsale, soc.religion.christian). \n",
    "\n",
    "There are three versions of the 20 Newsgroups Dataset. In this assignment we will use the `bydate` matlab version in which documents are sorted by date into training (60%) and test (40%) sets, newsgroup-identifying headers are dropped and duplicates are removed. This collection comprises roughly 61,000 different words, which results in a bag-of-words representation with frequency counts. More specifically, each document is represented by a 61,000 dimensional vector that contains the counts for each of the 61,000 different words present in the respective document. \n",
    "\n",
    "To save you time and to make the problem manageable with limited computational resources, we preprocessed the original dataset. We will use documents from only 5 out of the 20 newsgroups, which results in a 5-class problem. The class is conveniently stored in the `class` column. More specifically the 5 classes correspond to the following newsgroups: \n",
    "1. `alt.atheism`\n",
    "2. `comp.sys.ibm.pc.hardware`\n",
    "3. `comp.sys.mac.hardware`\n",
    "4. `rec.sport.baseball`\n",
    "5. `rec.sport.hockey `\n",
    "\n",
    "However, note here that classes 2-3 and 4-5 are rather closely related. Additionally, we computed the [mutual information](https://en.wikipedia.org/wiki/Mutual_information) of each word with the class attribute and selected the some words out of 61,000 that had highest mutual information. For very sophisticated technical reasons (which you should know!) 1 was added to all the word counts in part 1. The resulting representation is much more compact and can be used directly to perform our experiments in Python.\n",
    "\n",
    "**Hint**: The data was preprocessed by a very busy PhD student... and hence should never be taken to be perfect at face value!"
   ]
  },
  {
   "cell_type": "markdown",
   "metadata": {},
   "source": [
    "## 1. Exploration of the dataset"
   ]
  },
  {
   "cell_type": "markdown",
   "metadata": {},
   "source": [
    "Your first task is to get a feel for the data that you will be dealing with in the rest of the assignment."
   ]
  },
  {
   "cell_type": "markdown",
   "metadata": {},
   "source": [
    "### ========== Question 1.1 --- [10 marks] ==========\n",
    "\n",
    "1. [Code] Load the dataset `raw_20news.csv` into a data-frame called `news_raw`. Using pandas methods we learnt in class, extract some basic information about the data. \n",
    "\n",
    "1. [Text] In a short paragraph, summarise the key features of the dataset. *Hint: Look at what we did in the labs.*"
   ]
  },
  {
   "cell_type": "code",
   "execution_count": 3,
   "metadata": {},
   "outputs": [
    {
     "data": {
      "text/html": [
       "<div>\n",
       "<style scoped>\n",
       "    .dataframe tbody tr th:only-of-type {\n",
       "        vertical-align: middle;\n",
       "    }\n",
       "\n",
       "    .dataframe tbody tr th {\n",
       "        vertical-align: top;\n",
       "    }\n",
       "\n",
       "    .dataframe thead th {\n",
       "        text-align: right;\n",
       "    }\n",
       "</style>\n",
       "<table border=\"1\" class=\"dataframe\">\n",
       "  <thead>\n",
       "    <tr style=\"text-align: right;\">\n",
       "      <th></th>\n",
       "      <th>w1_aaa</th>\n",
       "      <th>w2_pins</th>\n",
       "      <th>w3_kmr</th>\n",
       "      <th>w4_notion</th>\n",
       "      <th>w5_queens</th>\n",
       "      <th>w6_dwyer</th>\n",
       "      <th>w7_defenseman</th>\n",
       "      <th>w8_gld</th>\n",
       "      <th>w9_tocchet</th>\n",
       "      <th>w10_home</th>\n",
       "      <th>...</th>\n",
       "      <th>w512_constantly</th>\n",
       "      <th>w513_generate</th>\n",
       "      <th>w514_definite</th>\n",
       "      <th>w515_lacks</th>\n",
       "      <th>w516_combination</th>\n",
       "      <th>w517_sitting</th>\n",
       "      <th>w518_surface</th>\n",
       "      <th>w519_fashion</th>\n",
       "      <th>w520_sit</th>\n",
       "      <th>class</th>\n",
       "    </tr>\n",
       "  </thead>\n",
       "  <tbody>\n",
       "    <tr>\n",
       "      <th>count</th>\n",
       "      <td>2129.000000</td>\n",
       "      <td>2129.000000</td>\n",
       "      <td>2129.000000</td>\n",
       "      <td>2129.000000</td>\n",
       "      <td>2129.000000</td>\n",
       "      <td>2129.00000</td>\n",
       "      <td>2129.000000</td>\n",
       "      <td>2129.000000</td>\n",
       "      <td>2129.000000</td>\n",
       "      <td>2129.000000</td>\n",
       "      <td>...</td>\n",
       "      <td>2129.000000</td>\n",
       "      <td>2129.000000</td>\n",
       "      <td>2129.000000</td>\n",
       "      <td>2129.000000</td>\n",
       "      <td>2129.000000</td>\n",
       "      <td>2129.000000</td>\n",
       "      <td>2129.000000</td>\n",
       "      <td>2129.000000</td>\n",
       "      <td>2129.000000</td>\n",
       "      <td>2129.000000</td>\n",
       "    </tr>\n",
       "    <tr>\n",
       "      <th>mean</th>\n",
       "      <td>5.128229</td>\n",
       "      <td>6.097698</td>\n",
       "      <td>6.120244</td>\n",
       "      <td>5.551902</td>\n",
       "      <td>5.521841</td>\n",
       "      <td>6.12776</td>\n",
       "      <td>5.633161</td>\n",
       "      <td>6.090653</td>\n",
       "      <td>5.970409</td>\n",
       "      <td>5.624706</td>\n",
       "      <td>...</td>\n",
       "      <td>9.666510</td>\n",
       "      <td>9.217473</td>\n",
       "      <td>9.061531</td>\n",
       "      <td>9.398309</td>\n",
       "      <td>9.175200</td>\n",
       "      <td>9.708783</td>\n",
       "      <td>8.807891</td>\n",
       "      <td>9.719587</td>\n",
       "      <td>9.307656</td>\n",
       "      <td>3.092532</td>\n",
       "    </tr>\n",
       "    <tr>\n",
       "      <th>std</th>\n",
       "      <td>38.292577</td>\n",
       "      <td>46.190953</td>\n",
       "      <td>46.656022</td>\n",
       "      <td>40.953913</td>\n",
       "      <td>40.978098</td>\n",
       "      <td>45.96434</td>\n",
       "      <td>41.146918</td>\n",
       "      <td>45.762060</td>\n",
       "      <td>44.266628</td>\n",
       "      <td>40.769105</td>\n",
       "      <td>...</td>\n",
       "      <td>45.844064</td>\n",
       "      <td>43.948910</td>\n",
       "      <td>40.969185</td>\n",
       "      <td>43.833064</td>\n",
       "      <td>42.403283</td>\n",
       "      <td>47.294120</td>\n",
       "      <td>39.341038</td>\n",
       "      <td>46.185082</td>\n",
       "      <td>45.059367</td>\n",
       "      <td>1.395948</td>\n",
       "    </tr>\n",
       "    <tr>\n",
       "      <th>min</th>\n",
       "      <td>1.000000</td>\n",
       "      <td>1.000000</td>\n",
       "      <td>1.000000</td>\n",
       "      <td>1.000000</td>\n",
       "      <td>1.000000</td>\n",
       "      <td>1.00000</td>\n",
       "      <td>1.000000</td>\n",
       "      <td>1.000000</td>\n",
       "      <td>1.000000</td>\n",
       "      <td>1.000000</td>\n",
       "      <td>...</td>\n",
       "      <td>1.000000</td>\n",
       "      <td>1.000000</td>\n",
       "      <td>1.000000</td>\n",
       "      <td>1.000000</td>\n",
       "      <td>1.000000</td>\n",
       "      <td>1.000000</td>\n",
       "      <td>1.000000</td>\n",
       "      <td>1.000000</td>\n",
       "      <td>1.000000</td>\n",
       "      <td>1.000000</td>\n",
       "    </tr>\n",
       "    <tr>\n",
       "      <th>25%</th>\n",
       "      <td>1.000000</td>\n",
       "      <td>1.000000</td>\n",
       "      <td>1.000000</td>\n",
       "      <td>1.000000</td>\n",
       "      <td>1.000000</td>\n",
       "      <td>1.00000</td>\n",
       "      <td>1.000000</td>\n",
       "      <td>1.000000</td>\n",
       "      <td>1.000000</td>\n",
       "      <td>1.000000</td>\n",
       "      <td>...</td>\n",
       "      <td>3.000000</td>\n",
       "      <td>2.000000</td>\n",
       "      <td>3.000000</td>\n",
       "      <td>3.000000</td>\n",
       "      <td>2.000000</td>\n",
       "      <td>3.000000</td>\n",
       "      <td>3.000000</td>\n",
       "      <td>3.000000</td>\n",
       "      <td>2.000000</td>\n",
       "      <td>2.000000</td>\n",
       "    </tr>\n",
       "    <tr>\n",
       "      <th>50%</th>\n",
       "      <td>1.000000</td>\n",
       "      <td>1.000000</td>\n",
       "      <td>1.000000</td>\n",
       "      <td>1.000000</td>\n",
       "      <td>1.000000</td>\n",
       "      <td>1.00000</td>\n",
       "      <td>1.000000</td>\n",
       "      <td>1.000000</td>\n",
       "      <td>1.000000</td>\n",
       "      <td>1.000000</td>\n",
       "      <td>...</td>\n",
       "      <td>5.000000</td>\n",
       "      <td>5.000000</td>\n",
       "      <td>5.000000</td>\n",
       "      <td>5.000000</td>\n",
       "      <td>5.000000</td>\n",
       "      <td>5.000000</td>\n",
       "      <td>5.000000</td>\n",
       "      <td>5.000000</td>\n",
       "      <td>4.000000</td>\n",
       "      <td>3.000000</td>\n",
       "    </tr>\n",
       "    <tr>\n",
       "      <th>75%</th>\n",
       "      <td>1.000000</td>\n",
       "      <td>1.000000</td>\n",
       "      <td>1.000000</td>\n",
       "      <td>1.000000</td>\n",
       "      <td>1.000000</td>\n",
       "      <td>1.00000</td>\n",
       "      <td>1.000000</td>\n",
       "      <td>1.000000</td>\n",
       "      <td>1.000000</td>\n",
       "      <td>1.000000</td>\n",
       "      <td>...</td>\n",
       "      <td>7.000000</td>\n",
       "      <td>7.000000</td>\n",
       "      <td>7.000000</td>\n",
       "      <td>7.000000</td>\n",
       "      <td>7.000000</td>\n",
       "      <td>7.000000</td>\n",
       "      <td>7.000000</td>\n",
       "      <td>7.000000</td>\n",
       "      <td>6.000000</td>\n",
       "      <td>4.000000</td>\n",
       "    </tr>\n",
       "    <tr>\n",
       "      <th>max</th>\n",
       "      <td>572.000000</td>\n",
       "      <td>583.000000</td>\n",
       "      <td>579.000000</td>\n",
       "      <td>580.000000</td>\n",
       "      <td>591.000000</td>\n",
       "      <td>600.00000</td>\n",
       "      <td>546.000000</td>\n",
       "      <td>591.000000</td>\n",
       "      <td>578.000000</td>\n",
       "      <td>578.000000</td>\n",
       "      <td>...</td>\n",
       "      <td>590.000000</td>\n",
       "      <td>587.000000</td>\n",
       "      <td>577.000000</td>\n",
       "      <td>598.000000</td>\n",
       "      <td>568.000000</td>\n",
       "      <td>599.000000</td>\n",
       "      <td>585.000000</td>\n",
       "      <td>600.000000</td>\n",
       "      <td>597.000000</td>\n",
       "      <td>5.000000</td>\n",
       "    </tr>\n",
       "  </tbody>\n",
       "</table>\n",
       "<p>8 rows × 521 columns</p>\n",
       "</div>"
      ],
      "text/plain": [
       "            w1_aaa      w2_pins       w3_kmr    w4_notion    w5_queens  \\\n",
       "count  2129.000000  2129.000000  2129.000000  2129.000000  2129.000000   \n",
       "mean      5.128229     6.097698     6.120244     5.551902     5.521841   \n",
       "std      38.292577    46.190953    46.656022    40.953913    40.978098   \n",
       "min       1.000000     1.000000     1.000000     1.000000     1.000000   \n",
       "25%       1.000000     1.000000     1.000000     1.000000     1.000000   \n",
       "50%       1.000000     1.000000     1.000000     1.000000     1.000000   \n",
       "75%       1.000000     1.000000     1.000000     1.000000     1.000000   \n",
       "max     572.000000   583.000000   579.000000   580.000000   591.000000   \n",
       "\n",
       "         w6_dwyer  w7_defenseman       w8_gld   w9_tocchet     w10_home  \\\n",
       "count  2129.00000    2129.000000  2129.000000  2129.000000  2129.000000   \n",
       "mean      6.12776       5.633161     6.090653     5.970409     5.624706   \n",
       "std      45.96434      41.146918    45.762060    44.266628    40.769105   \n",
       "min       1.00000       1.000000     1.000000     1.000000     1.000000   \n",
       "25%       1.00000       1.000000     1.000000     1.000000     1.000000   \n",
       "50%       1.00000       1.000000     1.000000     1.000000     1.000000   \n",
       "75%       1.00000       1.000000     1.000000     1.000000     1.000000   \n",
       "max     600.00000     546.000000   591.000000   578.000000   578.000000   \n",
       "\n",
       "          ...       w512_constantly  w513_generate  w514_definite  \\\n",
       "count     ...           2129.000000    2129.000000    2129.000000   \n",
       "mean      ...              9.666510       9.217473       9.061531   \n",
       "std       ...             45.844064      43.948910      40.969185   \n",
       "min       ...              1.000000       1.000000       1.000000   \n",
       "25%       ...              3.000000       2.000000       3.000000   \n",
       "50%       ...              5.000000       5.000000       5.000000   \n",
       "75%       ...              7.000000       7.000000       7.000000   \n",
       "max       ...            590.000000     587.000000     577.000000   \n",
       "\n",
       "        w515_lacks  w516_combination  w517_sitting  w518_surface  \\\n",
       "count  2129.000000       2129.000000   2129.000000   2129.000000   \n",
       "mean      9.398309          9.175200      9.708783      8.807891   \n",
       "std      43.833064         42.403283     47.294120     39.341038   \n",
       "min       1.000000          1.000000      1.000000      1.000000   \n",
       "25%       3.000000          2.000000      3.000000      3.000000   \n",
       "50%       5.000000          5.000000      5.000000      5.000000   \n",
       "75%       7.000000          7.000000      7.000000      7.000000   \n",
       "max     598.000000        568.000000    599.000000    585.000000   \n",
       "\n",
       "       w519_fashion     w520_sit        class  \n",
       "count   2129.000000  2129.000000  2129.000000  \n",
       "mean       9.719587     9.307656     3.092532  \n",
       "std       46.185082    45.059367     1.395948  \n",
       "min        1.000000     1.000000     1.000000  \n",
       "25%        3.000000     2.000000     2.000000  \n",
       "50%        5.000000     4.000000     3.000000  \n",
       "75%        7.000000     6.000000     4.000000  \n",
       "max      600.000000   597.000000     5.000000  \n",
       "\n",
       "[8 rows x 521 columns]"
      ]
     },
     "execution_count": 3,
     "metadata": {},
     "output_type": "execute_result"
    }
   ],
   "source": [
    "raw_news_loc = os.path.join(os.getcwd(), 'datasets', 'raw_20news.csv')\n",
    "news_raw = pd.read_csv(raw_news_loc)\n",
    "news_raw.describe()"
   ]
  },
  {
   "cell_type": "markdown",
   "metadata": {},
   "source": [
    "(2) ***Your answer goes here:***\n",
    "There are 521 columns of numeric data. The first 520 columns relate to data from individual news sources while the 521st column classifies it as one of the 5 topics as described above. There seem to be a high amount of outliers in the dataset, since the mean of each column is quite low but has a maximum that is far greater. This probably also causes the standard deviation to be relatively large."
   ]
  },
  {
   "cell_type": "markdown",
   "metadata": {},
   "source": [
    "### ========== Question 1.2 ---  [6 marks] ==========\n",
    "1. [Code] Display the names of some of the attributes in the training datset. \n",
    "1. [Text] Describe the output and comment (1 or 2 sentences) keeping in mind the selection procedure for the features."
   ]
  },
  {
   "cell_type": "code",
   "execution_count": 20,
   "metadata": {},
   "outputs": [
    {
     "data": {
      "text/plain": [
       "['w1_aaa',\n",
       " 'w2_pins',\n",
       " 'w3_kmr',\n",
       " 'w4_notion',\n",
       " 'w5_queens',\n",
       " 'w6_dwyer',\n",
       " 'w7_defenseman',\n",
       " 'w8_gld',\n",
       " 'w9_tocchet',\n",
       " 'w10_home',\n",
       " 'w11_buying',\n",
       " 'w12_internet',\n",
       " 'w13_slots',\n",
       " 'w14_compatible',\n",
       " 'w15_transfer',\n",
       " 'w16_baltimore',\n",
       " 'w17_mean',\n",
       " 'w18_person',\n",
       " 'w19_performance',\n",
       " 'w20_support',\n",
       " 'w21_tor',\n",
       " 'w22_gm',\n",
       " 'w23_mouse',\n",
       " 'w24_base',\n",
       " 'w25_population',\n",
       " 'w26_bob',\n",
       " 'w27_set',\n",
       " 'w28_it',\n",
       " 'w29_earth',\n",
       " 'w30_faith',\n",
       " 'w31_steve',\n",
       " 'w32_caps',\n",
       " 'w33_printer',\n",
       " 'w34_east',\n",
       " 'w35_cable',\n",
       " 'w36_adapter',\n",
       " 'w37_mss',\n",
       " 'w38_catcher',\n",
       " 'w39_bullpen',\n",
       " 'w40_obp',\n",
       " 'w41_innocent',\n",
       " 'w42_european',\n",
       " 'w43_angeles',\n",
       " 'w44_settings',\n",
       " 'w45_words',\n",
       " 'w46_rit',\n",
       " 'w47_shots',\n",
       " 'w48_ports',\n",
       " 'w49_vga',\n",
       " 'w50_coverage',\n",
       " 'w51_jumpers',\n",
       " 'w52_bases',\n",
       " 'w53_sea',\n",
       " 'w54_pts',\n",
       " 'w55_behavior',\n",
       " 'w56_domi',\n",
       " 'w57_sabres',\n",
       " 'w58_yzerman',\n",
       " 'w59_messier',\n",
       " 'w60_goalies',\n",
       " 'w61_hawks',\n",
       " 'w62_our',\n",
       " 'w63_sx',\n",
       " 'w64_view',\n",
       " 'w65_hitters',\n",
       " 'w66_richard',\n",
       " 'w67_point',\n",
       " 'w68_nyi',\n",
       " 'w69_mvp',\n",
       " 'w70_kill',\n",
       " 'w71_nl',\n",
       " 'w72_field',\n",
       " 'w73_connector',\n",
       " 'w74_stars',\n",
       " 'w75_th',\n",
       " 'w76_install',\n",
       " 'w77_traded',\n",
       " 'w78_configuration',\n",
       " 'w79_standard',\n",
       " 'w80_rotation',\n",
       " 'w81_ultb',\n",
       " 'w82_sports',\n",
       " 'w83_pds',\n",
       " 'w84_canada',\n",
       " 'w85_did',\n",
       " 'w86_clock',\n",
       " 'w87_first',\n",
       " 'w88_switch',\n",
       " 'w89_tonight',\n",
       " 'w90_record',\n",
       " 'w91_singer',\n",
       " 'w92_majors',\n",
       " 'w93_royals',\n",
       " 'w94_does',\n",
       " 'w95_flames',\n",
       " 'w96_of',\n",
       " 'w97_series',\n",
       " 'w98_plays',\n",
       " 'w99_det',\n",
       " 'w100_pitched',\n",
       " 'w101_cmos',\n",
       " 'w102_bobby',\n",
       " 'w103_morris',\n",
       " 'w104_saturn',\n",
       " 'w105_wwc',\n",
       " 'w106_nubus',\n",
       " 'w107_john',\n",
       " 'w108_defined',\n",
       " 'w109_fax',\n",
       " 'w110_graphics',\n",
       " 'w111_driver',\n",
       " 'w112_conference',\n",
       " 'w113_sgi',\n",
       " 'w114_yoyo',\n",
       " 'w115_early',\n",
       " 'w116_uses',\n",
       " 'w117_average',\n",
       " 'w118_as',\n",
       " 'w119_run',\n",
       " 'w120_jewish',\n",
       " 'w121_duo',\n",
       " 'w122_canadiens',\n",
       " 'w123_probert',\n",
       " 'w124_innings',\n",
       " 'w125_device',\n",
       " 'w126_species',\n",
       " 'w127_city',\n",
       " 'w128_so',\n",
       " 'w129_stadium',\n",
       " 'w130_sharks',\n",
       " 'w131_define',\n",
       " 'w132_man',\n",
       " 'w133_philadelphia',\n",
       " 'w134_monash',\n",
       " 'w135_works',\n",
       " 'w136_abc',\n",
       " 'w137_irq',\n",
       " 'w138_pin',\n",
       " 'w139_devices',\n",
       " 'w140_vice',\n",
       " 'w141_help',\n",
       " 'w142_kings',\n",
       " 'w143_example',\n",
       " 'w144_via',\n",
       " 'w145_champs',\n",
       " 'w146_are',\n",
       " 'w147_whalers',\n",
       " 'w148_fpu',\n",
       " 'w149_newton',\n",
       " 'w150_sense',\n",
       " 'w151_canadian',\n",
       " 'w152_then',\n",
       " 'w153_law',\n",
       " 'w154_certainly',\n",
       " 'w155_access',\n",
       " 'w156_ati',\n",
       " 'w157_fact',\n",
       " 'w158_price',\n",
       " 'w159_sandvik',\n",
       " 'w160_muslims',\n",
       " 'w161_ms',\n",
       " 'w162_things',\n",
       " 'w163_explain',\n",
       " 'w164_arena',\n",
       " 'w165_bure',\n",
       " 'w166_saying',\n",
       " 'w167_murder',\n",
       " 'w168_inning',\n",
       " 'w169_reds',\n",
       " 'w170_history',\n",
       " 'w171_young',\n",
       " 'w172_many',\n",
       " 'w173_gary',\n",
       " 'w174_arguments',\n",
       " 'w175_monitors',\n",
       " 'w176_au',\n",
       " 'w177_disks',\n",
       " 'w178_think',\n",
       " 'w179_points',\n",
       " 'w180_york',\n",
       " 'w181_mantis',\n",
       " 'w182_mangoe',\n",
       " 'w183_darice',\n",
       " 'w184_society',\n",
       " 'w185_believe',\n",
       " 'w186_tie',\n",
       " 'w187_bat',\n",
       " 'w188_jagr',\n",
       " 'w189_do',\n",
       " 'w190_penalty',\n",
       " 'w191_adams',\n",
       " 'w192_which',\n",
       " 'w193_gods',\n",
       " 'w194_that',\n",
       " 'w195_offense',\n",
       " 'w196_rockies',\n",
       " 'w197_atlanta',\n",
       " 'w198_beliefs',\n",
       " 'w199_capitals',\n",
       " 'w200_maynard',\n",
       " 'w201_alt',\n",
       " 'w202_minnesota',\n",
       " 'w203_rice',\n",
       " 'w204_religions',\n",
       " 'w205_hartford',\n",
       " 'w206_apr',\n",
       " 'w207_boot',\n",
       " 'w208_allan',\n",
       " 'w209_why',\n",
       " 'w210_orioles',\n",
       " 'w211_my',\n",
       " 'w212_cannot',\n",
       " 'w213_cd',\n",
       " 'w214_social',\n",
       " 'w215_nature',\n",
       " 'w216_definition',\n",
       " 'w217_simm',\n",
       " 'w218_faster',\n",
       " 'w219_not',\n",
       " 'w220_external',\n",
       " 'w221_lciii',\n",
       " 'w222_serial',\n",
       " 'w223_gretzky',\n",
       " 'w224_smythe',\n",
       " 'w225_habs',\n",
       " 'w226_maple',\n",
       " 'w227_watch',\n",
       " 'w228_umd',\n",
       " 'w229_gap',\n",
       " 'w230_jays',\n",
       " 'w231_vram',\n",
       " 'w232_program',\n",
       " 'w233_laws',\n",
       " 'w234_laurentian',\n",
       " 'w235_finals',\n",
       " 'w236_in',\n",
       " 'w237_interface',\n",
       " 'w238_defense',\n",
       " 'w239_ottawa',\n",
       " 'w240_info',\n",
       " 'w241_internal',\n",
       " 'w242_accept',\n",
       " 'w243_christians',\n",
       " 'w244_wingate',\n",
       " 'w245_penalties',\n",
       " 'w246_chicago',\n",
       " 'w247_hits',\n",
       " 'w248_defensive',\n",
       " 'w249_statement',\n",
       " 'w250_com',\n",
       " 'w251_espn',\n",
       " 'w252_ted',\n",
       " 'w253_their',\n",
       " 'w254_hitting',\n",
       " 'w255_humans',\n",
       " 'w256_ibm',\n",
       " 'w257_alomar',\n",
       " 'w258_dodgers',\n",
       " 'w259_mathew',\n",
       " 'w260_batting',\n",
       " 'w261_cards',\n",
       " 'w262_existence',\n",
       " 'w263_hr',\n",
       " 'w264_false',\n",
       " 'w265_next',\n",
       " 'w266_macs',\n",
       " 'w267_career',\n",
       " 'w268_cco',\n",
       " 'w269_canucks',\n",
       " 'w270_agree',\n",
       " 'w271_meg',\n",
       " 'w272_objective',\n",
       " 'w273_tek',\n",
       " 'w274_punishment',\n",
       " 'w275_snm',\n",
       " 'w276_buphy',\n",
       " 'w277_eisa',\n",
       " 'w278_cache',\n",
       " 'w279_se',\n",
       " 'w280_mike',\n",
       " 'w281_ico',\n",
       " 'w282_caltech',\n",
       " 'w283_mario',\n",
       " 'w284_years',\n",
       " 'w285_night',\n",
       " 'w286_staff',\n",
       " 'w287_schneider',\n",
       " 'w288_yankees',\n",
       " 'w289_buffalo',\n",
       " 'w290_by',\n",
       " 'w291_chip',\n",
       " 'w292_rom',\n",
       " 'w293_against',\n",
       " 'w294_louis',\n",
       " 'w295_screen',\n",
       " 'w296_contact',\n",
       " 'w297_modem',\n",
       " 'w298_jersey',\n",
       " 'w299_upgrade',\n",
       " 'w300_bobbe',\n",
       " 'w301_beauchaine',\n",
       " 'w302_jaeger',\n",
       " 'w303_iisi',\n",
       " 'w304_machine',\n",
       " 'w305_gilmour',\n",
       " 'w306_oilers',\n",
       " 'w307_roger',\n",
       " 'w308_rbi',\n",
       " 'w309_exist',\n",
       " 'w310_uk',\n",
       " 'w311_natural',\n",
       " 'w312_advance',\n",
       " 'w313_hi',\n",
       " 'w314_lindros',\n",
       " 'w315_goalie',\n",
       " 'w316_edmonton',\n",
       " 'w317_gregg',\n",
       " 'w318_drivers',\n",
       " 'w319_pitch',\n",
       " 'w320_red',\n",
       " 'w321_beat',\n",
       " 'w322_life',\n",
       " 'w323_they',\n",
       " 'w324_machines',\n",
       " 'w325_data',\n",
       " 'w326_potvin',\n",
       " 'w327_score',\n",
       " 'w328_stats',\n",
       " 'w329_edu',\n",
       " 'w330_scoring',\n",
       " 'w331_cpu',\n",
       " 'w332_st',\n",
       " 'w333_puck',\n",
       " 'w334_ramsey',\n",
       " 'w335_see',\n",
       " 'w336_patrick',\n",
       " 'w337_jon',\n",
       " 'w338_pitchers',\n",
       " 'w339_sox',\n",
       " 'w340_christianity',\n",
       " 'w341_wins',\n",
       " 'w342_hd',\n",
       " 'w343_round',\n",
       " 'w344_must',\n",
       " 'w345_flyers',\n",
       " 'w346_mode',\n",
       " 'w347_claim',\n",
       " 'w348_cubs',\n",
       " 'w349_therefore',\n",
       " 'w350_sport',\n",
       " 'w351_winning',\n",
       " 'w352_work',\n",
       " 'w353_memory',\n",
       " 'w354_norris',\n",
       " 'w355_video',\n",
       " 'w356_vancouver',\n",
       " 'w357_vlb',\n",
       " 'w358_montreal',\n",
       " 'w359_selanne',\n",
       " 'w360_powerbook',\n",
       " 'w361_jesus',\n",
       " 'w362_speed',\n",
       " 'w363_scored',\n",
       " 'w364_fan',\n",
       " 'w365_gateway',\n",
       " 'w366_playing',\n",
       " 'w367_were',\n",
       " 'w368_gerald',\n",
       " 'w369_macintosh',\n",
       " 'w370_installed',\n",
       " 'w371_pitcher',\n",
       " 'w372_said',\n",
       " 'w373_such',\n",
       " 'w374_buy',\n",
       " 'w375_lc',\n",
       " 'w376_phillies',\n",
       " 'w377_human',\n",
       " 'w378_simms',\n",
       " 'w379_jets',\n",
       " 'w380_your',\n",
       " 'w381_port',\n",
       " 'w382_argument',\n",
       " 'w383_boston',\n",
       " 'w384_mozumder',\n",
       " 'w385_problem',\n",
       " 'w386_you',\n",
       " 'w387_calgary',\n",
       " 'w388_go',\n",
       " 'w389_christian',\n",
       " 'w390_benedikt',\n",
       " 'w391_muslim',\n",
       " 'w392_islamic',\n",
       " 'w393_hitter',\n",
       " 'w394_pens',\n",
       " 'w395_ball',\n",
       " 'w396_os',\n",
       " 'w397_quebec',\n",
       " 'w398_wpd',\n",
       " 'w399_lemieux',\n",
       " 'w400_being',\n",
       " 'w401_played',\n",
       " 'w402_evidence',\n",
       " 'w403_using',\n",
       " 'w404_solntze',\n",
       " 'w405_bios',\n",
       " 'w406_floppy',\n",
       " 'w407_article',\n",
       " 'w408_coach',\n",
       " 'w409_belief',\n",
       " 'w410_mhz',\n",
       " 'w411_winnipeg',\n",
       " 'w412_bruins',\n",
       " 'w413_livesey',\n",
       " 'w414_braves',\n",
       " 'w415_board',\n",
       " 'w416_division',\n",
       " 'w417_say',\n",
       " 'w418_mets',\n",
       " 'w419_last',\n",
       " 'w420_was',\n",
       " 'w421_morality',\n",
       " 'w422_runs',\n",
       " 'w423_hit',\n",
       " 'w424_goal',\n",
       " 'w425_motherboard',\n",
       " 'w426_islam',\n",
       " 'w427_drives',\n",
       " 'w428_islanders',\n",
       " 'w429_quadra',\n",
       " 'w430_moral',\n",
       " 'w431_bible',\n",
       " 'w432_hardware',\n",
       " 'w433_computer',\n",
       " 'w434_ice',\n",
       " 'w435_penguins',\n",
       " 'w436_isa',\n",
       " 'w437_detroit',\n",
       " 'w438_centris',\n",
       " 'w439_ca',\n",
       " 'w440_ram',\n",
       " 'w441_goals',\n",
       " 'w442_we',\n",
       " 'w443_fans',\n",
       " 'w444_devils',\n",
       " 'w445_people',\n",
       " 'w446_use',\n",
       " 'w447_monitor',\n",
       " 'w448_pittsburgh',\n",
       " 'w449_atheist',\n",
       " 'w450_rangers',\n",
       " 'w451_playoff',\n",
       " 'w452_software',\n",
       " 'w453_system',\n",
       " 'w454_who',\n",
       " 'w455_disk',\n",
       " 'w456_stanley',\n",
       " 'w457_toronto',\n",
       " 'w458_atheists',\n",
       " 'w459_keith',\n",
       " 'w460_religious',\n",
       " 'w461_wings',\n",
       " 'w462_windows',\n",
       " 'w463_win',\n",
       " 'w464_leafs',\n",
       " 'w465_dx',\n",
       " 'w466_pitching',\n",
       " 'w467_player',\n",
       " 'w468_scsi',\n",
       " 'w469_ide',\n",
       " 'w470_him',\n",
       " 'w471_thanks',\n",
       " 'w472_atheism',\n",
       " 'w473_bus',\n",
       " 'w474_religion',\n",
       " 'w475_cup',\n",
       " 'w476_writes',\n",
       " 'w477_dos',\n",
       " 'w478_playoffs',\n",
       " 'w479_controller',\n",
       " 'w480_his',\n",
       " 'w481_pc',\n",
       " 'w482_mb',\n",
       " 'w483_league',\n",
       " 'w484_teams',\n",
       " 'w485_card',\n",
       " 'w486_year',\n",
       " 'w487_drive',\n",
       " 'w488_play',\n",
       " 'w489_games',\n",
       " 'w490_players',\n",
       " 'w491_apple',\n",
       " 'w492_nhl',\n",
       " 'w493_he',\n",
       " 'w494_season',\n",
       " 'w495_baseball',\n",
       " 'w496_god',\n",
       " 'w497_mac',\n",
       " 'w498_game',\n",
       " 'w499_hockey',\n",
       " 'w500_team',\n",
       " 'w501_journal',\n",
       " 'w502_enlighten',\n",
       " 'w503_sooner',\n",
       " 'w504_turns',\n",
       " 'w505_warm',\n",
       " 'w506_cancelled',\n",
       " 'w507_bold',\n",
       " 'w508_extremely',\n",
       " 'w509_organized',\n",
       " 'w510_resulting',\n",
       " 'w511_old',\n",
       " 'w512_constantly',\n",
       " 'w513_generate',\n",
       " 'w514_definite',\n",
       " 'w515_lacks',\n",
       " 'w516_combination',\n",
       " 'w517_sitting',\n",
       " 'w518_surface',\n",
       " 'w519_fashion',\n",
       " 'w520_sit',\n",
       " 'class']"
      ]
     },
     "execution_count": 20,
     "metadata": {},
     "output_type": "execute_result"
    }
   ],
   "source": [
    "list(news_raw)"
   ]
  },
  {
   "cell_type": "markdown",
   "metadata": {},
   "source": [
    "(2) ***Your answer goes here:***\n",
    "The dataset contains 521 columns. The first 520 each contain values that classify the subject which is displayed in the last column 'class.'"
   ]
  },
  {
   "cell_type": "markdown",
   "metadata": {},
   "source": [
    "### ========== Question 1.3 --- [4 marks] ==========\n",
    "Familiarise yourself with the [`stripplot`](https://seaborn.github.io/generated/seaborn.stripplot.html?highlight=stripplot#seaborn.stripplot) function in `seaborn`. \n",
    "\n",
    "1. [Code] Pick one attribute of your choice (except `class`) and display a stripplot for that attribute for the raw dataset. Demonstrate the distribution of the data separately for each class (by making appropriate use of the `x` argument in `stripplot`). Set the `jitter` argument to `True` and the `alpha` argument to an appropriate value (to add transparency to better visualise your model). When the jitter parameter is enabled a small amount of noise is added to the data so that there is less overlap and the distribution is easier to visualise. \n",
    " ***N.B.*** *If for some reason, the alpha parameter does not work for you, then ignore it.*\n",
    "\n",
    "1. [Text] Mention anything peculiar you observe in the Data."
   ]
  },
  {
   "cell_type": "code",
   "execution_count": 4,
   "metadata": {},
   "outputs": [
    {
     "data": {
      "text/plain": [
       "<matplotlib.axes._subplots.AxesSubplot at 0x7f7fde0ab6d8>"
      ]
     },
     "execution_count": 4,
     "metadata": {},
     "output_type": "execute_result"
    },
    {
     "data": {
      "image/png": "[encoded data removed]",
      "text/plain": [
       "<Figure size 432x288 with 1 Axes>"
      ]
     },
     "metadata": {
      "needs_background": "light"
     },
     "output_type": "display_data"
    }
   ],
   "source": [
    "sns.stripplot(x=news_raw['w1_aaa'], jitter=True, color=\"blue\", alpha=0.5)"
   ]
  },
  {
   "cell_type": "markdown",
   "metadata": {},
   "source": [
    "(2) ***Your answer goes here:***\n",
    "The visualization clearly shows how far the outliers are skewing the data. While there is a massive concentration of points on the far left, indicating that a vast majority of the data has a very small value in the single digits, there are several data points spread along to the right in the 100s."
   ]
  },
  {
   "cell_type": "markdown",
   "metadata": {},
   "source": [
    "### ========== Question 1.4  --- [8 marks] ==========\n",
    "Let us analyse this further. The stripplot illustrates the distribution of a single attribute. We can also visualise the joint distribution of two variables by using a scatter plot. Again, we want to add a bit of jitter into the data so that is easier to see which parts of the space (2-dimensional in our case) have larger probability densities. For this, you will be using the function `scatter_jitter` from the `utils` library which we provided. This function takes as input two numpy arrays containing the features of interest. \n",
    "\n",
    "1. [Code] First, pick two attributes of your choice from `news_raw` and use the provided function to plot their joint distribution. Do this twice (i.e. pick 4 attributes and do plots between two pairs: you do not need to plot between each possible pair). You can play around with the amount of noise added by tweaking the `jitter` parameter. Alternatively, you can just use its default value which is set to 0.2. Label the axes appropriately.\n",
    "\n",
    "1. [Text] Do these plots increase or reduce the possibility of the data-set containing outliers? Why or why not? How would you visualise the data to verify this? **N.B. There is no need to code anything for this part, just indicate a reasonable type of plot, and what you expect to see.**"
   ]
  },
  {
   "cell_type": "code",
   "execution_count": 17,
   "metadata": {},
   "outputs": [
    {
     "data": {
      "image/png": "[encoded data removed]",
      "text/plain": [
       "<Figure size 432x288 with 1 Axes>"
      ]
     },
     "metadata": {
      "needs_background": "light"
     },
     "output_type": "display_data"
    }
   ],
   "source": [
    "scatter_jitter(news_raw['w1_aaa'], news_raw['w2_pins'], jitter=0.9)\n",
    "scatter_jitter(news_raw['w3_kmr'], news_raw['w4_notion'], jitter=0.9)"
   ]
  },
  {
   "cell_type": "markdown",
   "metadata": {},
   "source": [
    "(2) ***Your answer goes here:***\n",
    "Increasing the jitter deemphasizes the outliers somewhat. As seen above, the cluster of data points that are in the single digits appears very spread out, with some of them appearing to reach into the hundreds values. We can verify that this is not the case either by examining the actual datasets or reducing the jitter."
   ]
  },
  {
   "cell_type": "markdown",
   "metadata": {},
   "source": [
    "### ========== Question 1.5 --- [15 marks] ==========\n",
    "We want to get rid of the potential outliers in the data. Your job now is to create a new dataset from `news_raw` (name it `news_clean`) and remove the outliers.\n",
    "\n",
    "1. [Text] Decide on a criterion to find the outliers and argue why it is reasonable. \n",
    "1. [Code] Then implement it and visualise the result (in terms of your criterion). **Be careful** not to alter the original dataset as we will need it later. \n",
    "1. [Text] Finally report the number of documents in the cleaned dataset, and the number rejected as outliers and comment on the result"
   ]
  },
  {
   "cell_type": "markdown",
   "metadata": {},
   "source": [
    "(1) ***Your answer goes here:***\n",
    "A good criterion for finding outliers is to remove any values that lie outside the standard deviation of the column. This is a reasonable method because it dynamically adapts to the specific columns we encounter and their specific values."
   ]
  },
  {
   "cell_type": "code",
   "execution_count": 12,
   "metadata": {},
   "outputs": [
    {
     "name": "stdout",
     "output_type": "stream",
     "text": [
      "The number of documents in the clean dataset is  2083\n",
      "The number of rejected outliers is  46\n"
     ]
    },
    {
     "data": {
      "image/png": "[encoded data removed]",
      "text/plain": [
       "<Figure size 432x288 with 1 Axes>"
      ]
     },
     "metadata": {
      "needs_background": "light"
     },
     "output_type": "display_data"
    }
   ],
   "source": [
    "#Ignore class column when searching for outliers\n",
    "news_clean = news_raw.drop('class', 1)\n",
    "news_clean = news_raw[~(news_clean > (news_clean.mean() + news_clean.std())).any(1)]\n",
    "scatter_jitter(news_clean['w1_aaa'], news_clean['w2_pins'], jitter=0.5)\n",
    "scatter_jitter(news_clean['w3_kmr'], news_clean['w4_notion'], jitter=0.5)\n",
    "\n",
    "# Used to answer part 3 of this question\n",
    "print(\"The number of documents in the clean dataset is \", len(news_clean))\n",
    "print(\"The number of rejected outliers is \", len(news_raw) - len(news_clean))"
   ]
  },
  {
   "cell_type": "markdown",
   "metadata": {},
   "source": [
    "(3) ***Your answer goes here:***\n",
    "As seen above, the number of documents in the cleaned dataset is 2083 which is 46 less than in the raw dataset. This means that 46 documents were rejected as outliers."
   ]
  },
  {
   "cell_type": "markdown",
   "metadata": {},
   "source": [
    "### ========== Question 1.6 --- (LEVEL 11) --- [10 marks] ==========\n",
    "\n",
    "1. [Code] Visualise some of the outlier documents and some of the inlier ones. \n",
    "1. [Text] Comment on the observations. Also comment on whether it is appropriate to do such cleaning on just the training data or on the entire data-set (including testing)."
   ]
  },
  {
   "cell_type": "code",
   "execution_count": 13,
   "metadata": {},
   "outputs": [
    {
     "data": {
      "text/plain": [
       "Text(0.5, 1.0, 'Inliers')"
      ]
     },
     "execution_count": 13,
     "metadata": {},
     "output_type": "execute_result"
    },
    {
     "data": {
      "image/png": "[encoded data removed]",
      "text/plain": [
       "<Figure size 432x288 with 2 Axes>"
      ]
     },
     "metadata": {
      "needs_background": "light"
     },
     "output_type": "display_data"
    }
   ],
   "source": [
    "news_outliers = news_raw.drop('class', 1)\n",
    "news_outliers = news_raw[~(news_outliers < (news_outliers.mean() + news_outliers.std())).any(1)]\n",
    "\n",
    "fig, axes = plt.subplots(1, 2)\n",
    "\n",
    "sns.stripplot(x=news_outliers['w1_aaa'], jitter=True, color=\"blue\", alpha=0.5, ax=axes[0])\n",
    "sns.stripplot(x=news_outliers['w2_pins'], jitter=True, color=\"red\", alpha=0.5, ax=axes[0])\n",
    "sns.stripplot(x=news_outliers['w3_kmr'], jitter=True, color=\"green\", alpha=0.5, ax=axes[0]).set_title('Outliers')\n",
    "\n",
    "sns.stripplot(x=news_clean['w1_aaa'], jitter=True, color=\"blue\", alpha=0.5, ax=axes[1])\n",
    "sns.stripplot(x=news_clean['w2_pins'], jitter=True, color=\"red\", alpha=0.5, ax=axes[1])\n",
    "sns.stripplot(x=news_clean['w3_kmr'], jitter=True, color=\"green\", alpha=0.5, ax=axes[1]).set_title('Inliers')"
   ]
  },
  {
   "cell_type": "markdown",
   "metadata": {},
   "source": [
    "(2) ***Your answer goes here:***\n",
    "There are significant differences between the outlier and inlier values. The outliers are much more spread out across a wide margin. The inliers are all very close together and many are clustered on the same few values. It is appropriate to do such cleaning because the outliers can greatly skew the data."
   ]
  },
  {
   "cell_type": "markdown",
   "metadata": {},
   "source": [
    "## 2. Naive Bayes classification\n",
    "Now we want to fit a Gaussian Naive Bayes model to the cleaned dataset. You might want first to familiarise yourself with the [`GaussianNB`](http://scikit-learn.org/0.19/modules/generated/sklearn.naive_bayes.GaussianNB.html) class in `Sklearn`."
   ]
  },
  {
   "cell_type": "markdown",
   "metadata": {},
   "source": [
    "### ========== Question 2.1 --- [6 marks] ==========\n",
    "\n",
    "Load the cleaned datasets `train_20news.csv` and `test_20news.csv` into pandas dataframes `news_train` and `news_test` respectively. Using pandas summary methods, confirm that the data is similar in both sets."
   ]
  },
  {
   "cell_type": "code",
   "execution_count": 14,
   "metadata": {},
   "outputs": [
    {
     "name": "stdout",
     "output_type": "stream",
     "text": [
      "Training dataset information:\n",
      "             w1_aaa      w2_pins       w3_kmr    w4_notion    w5_queens  \\\n",
      "count  2099.000000  2099.000000  2099.000000  2099.000000  2099.000000   \n",
      "mean      1.025727     1.017627     1.014769     1.008576     1.006193   \n",
      "std       0.280109     0.205208     0.172657     0.115206     0.078473   \n",
      "min       1.000000     1.000000     1.000000     1.000000     1.000000   \n",
      "25%       1.000000     1.000000     1.000000     1.000000     1.000000   \n",
      "50%       1.000000     1.000000     1.000000     1.000000     1.000000   \n",
      "75%       1.000000     1.000000     1.000000     1.000000     1.000000   \n",
      "max       8.000000     7.000000     5.000000     4.000000     2.000000   \n",
      "\n",
      "          w6_dwyer  w7_defenseman       w8_gld   w9_tocchet     w10_home  \\\n",
      "count  2099.000000    2099.000000  2099.000000  2099.000000  2099.000000   \n",
      "mean      1.010481       1.026203     1.024297     1.012387     1.084326   \n",
      "std       0.134174       0.618880     0.274219     0.153879     0.491139   \n",
      "min       1.000000       1.000000     1.000000     1.000000     1.000000   \n",
      "25%       1.000000       1.000000     1.000000     1.000000     1.000000   \n",
      "50%       1.000000       1.000000     1.000000     1.000000     1.000000   \n",
      "75%       1.000000       1.000000     1.000000     1.000000     1.000000   \n",
      "max       4.000000      28.000000     5.000000     4.000000    16.000000   \n",
      "\n",
      "          ...       w512_constantly  w513_generate  w514_definite  \\\n",
      "count     ...           2099.000000    2099.000000    2099.000000   \n",
      "mean      ...              4.574083       4.464983       4.533111   \n",
      "std       ...              2.283028       2.273922       2.329654   \n",
      "min       ...              1.000000       1.000000       1.000000   \n",
      "25%       ...              3.000000       2.000000       3.000000   \n",
      "50%       ...              5.000000       4.000000       5.000000   \n",
      "75%       ...              7.000000       6.000000       7.000000   \n",
      "max       ...              8.000000       8.000000       8.000000   \n",
      "\n",
      "        w515_lacks  w516_combination  w517_sitting  w518_surface  \\\n",
      "count  2099.000000       2099.000000   2099.000000   2099.000000   \n",
      "mean      4.557885          4.531682      4.514531      4.509290   \n",
      "std       2.292246          2.333558      2.259005      2.287548   \n",
      "min       1.000000          1.000000      1.000000      1.000000   \n",
      "25%       3.000000          2.000000      3.000000      2.000000   \n",
      "50%       5.000000          5.000000      4.000000      4.000000   \n",
      "75%       7.000000          7.000000      6.000000      7.000000   \n",
      "max       8.000000          8.000000      8.000000      8.000000   \n",
      "\n",
      "       w519_fashion     w520_sit        class  \n",
      "count   2099.000000  2099.000000  2099.000000  \n",
      "mean       4.521201     4.412577     3.091472  \n",
      "std        2.295995     2.296504     1.395628  \n",
      "min        1.000000     1.000000     1.000000  \n",
      "25%        3.000000     2.000000     2.000000  \n",
      "50%        5.000000     4.000000     3.000000  \n",
      "75%        6.500000     6.000000     4.000000  \n",
      "max        8.000000     8.000000     5.000000  \n",
      "\n",
      "[8 rows x 521 columns]\n",
      "\n",
      "Testing dataset information:\n",
      "            w1_aaa     w2_pins  w3_kmr  w4_notion   w5_queens    w6_dwyer  \\\n",
      "count  128.000000  128.000000   128.0      128.0  128.000000  128.000000   \n",
      "mean     1.007812    1.031250     1.0        1.0    1.007812    1.015625   \n",
      "std      0.088388    0.278847     0.0        0.0    0.088388    0.124507   \n",
      "min      1.000000    1.000000     1.0        1.0    1.000000    1.000000   \n",
      "25%      1.000000    1.000000     1.0        1.0    1.000000    1.000000   \n",
      "50%      1.000000    1.000000     1.0        1.0    1.000000    1.000000   \n",
      "75%      1.000000    1.000000     1.0        1.0    1.000000    1.000000   \n",
      "max      2.000000    4.000000     1.0        1.0    2.000000    2.000000   \n",
      "\n",
      "       w7_defenseman      w8_gld  w9_tocchet    w10_home     ...      \\\n",
      "count     128.000000  128.000000  128.000000  128.000000     ...       \n",
      "mean        1.007812    1.039062    1.015625    1.085938     ...       \n",
      "std         0.088388    0.291678    0.124507    0.281373     ...       \n",
      "min         1.000000    1.000000    1.000000    1.000000     ...       \n",
      "25%         1.000000    1.000000    1.000000    1.000000     ...       \n",
      "50%         1.000000    1.000000    1.000000    1.000000     ...       \n",
      "75%         1.000000    1.000000    1.000000    1.000000     ...       \n",
      "max         2.000000    4.000000    2.000000    2.000000     ...       \n",
      "\n",
      "       w512_constantly  w513_generate  w514_definite  w515_lacks  \\\n",
      "count       128.000000     128.000000     128.000000  128.000000   \n",
      "mean          4.757812       4.351562       4.593750    4.445312   \n",
      "std           2.201453       2.175706       2.438011    2.387001   \n",
      "min           1.000000       1.000000       1.000000    1.000000   \n",
      "25%           3.000000       3.000000       2.000000    2.000000   \n",
      "50%           5.000000       4.000000       5.000000    4.000000   \n",
      "75%           7.000000       6.000000       7.000000    7.000000   \n",
      "max           8.000000       8.000000       8.000000    8.000000   \n",
      "\n",
      "       w516_combination  w517_sitting  w518_surface  w519_fashion    w520_sit  \\\n",
      "count         128.00000    128.000000    128.000000    128.000000  128.000000   \n",
      "mean            4.53125      4.453125      4.687500      4.421875    4.531250   \n",
      "std             2.31373      2.383868      2.390104      2.285212    2.370878   \n",
      "min             1.00000      1.000000      1.000000      1.000000    1.000000   \n",
      "25%             2.75000      2.000000      2.750000      2.000000    2.000000   \n",
      "50%             4.00000      5.000000      5.000000      4.000000    5.000000   \n",
      "75%             6.25000      7.000000      7.000000      6.000000    7.000000   \n",
      "max             8.00000      8.000000      8.000000      8.000000    8.000000   \n",
      "\n",
      "            class  \n",
      "count  128.000000  \n",
      "mean     3.078125  \n",
      "std      1.400840  \n",
      "min      1.000000  \n",
      "25%      2.000000  \n",
      "50%      3.000000  \n",
      "75%      4.000000  \n",
      "max      5.000000  \n",
      "\n",
      "[8 rows x 521 columns]\n"
     ]
    }
   ],
   "source": [
    "train_news_loc = os.path.join(os.getcwd(), 'datasets', 'train_20news.csv')\n",
    "test_news_loc = os.path.join(os.getcwd(), 'datasets', 'test_20news.csv')\n",
    "news_train = pd.read_csv(train_news_loc)\n",
    "news_test = pd.read_csv(test_news_loc)\n",
    "print(\"Training dataset information:\\n\", news_train.describe())\n",
    "print(\"\\nTesting dataset information:\\n\", news_test.describe())"
   ]
  },
  {
   "cell_type": "markdown",
   "metadata": {},
   "source": [
    "### ========== Question 2.2 --- [4 marks] ==========\n",
    "\n",
    "[Text] Answer (in brief) the following two questions:\n",
    "1. What is the assumption behing the Naive Bayes Model?\n",
    "1. What would be the main issue we would have to face if we didn't make this assumption?"
   ]
  },
  {
   "cell_type": "markdown",
   "metadata": {},
   "source": [
    "(1/2) ***Your answer goes here:***\n",
    "1. The assumption behind the Naive Bayes model is that all predictors are conditionally independent. \n",
    "2. If we did not make this assumption the model would not be naive and we would be unable to make the calculations with the naive bayes theorem."
   ]
  },
  {
   "cell_type": "markdown",
   "metadata": {},
   "source": [
    "### ========== Question 2.3 --- [8 marks] ==========\n",
    "\n",
    "1. [Code] By using the `scatter_jitter` function, display a scatter plot of the features `w281_ico` and `w273_tek` for the **cleaned** dataset `news_train`. Set the jitter value to an appropriate value for visualisation. Label axes appropriately.\n",
    "1. [Text] What do you observe about these two features? Does this impact the validity of the Naive Bayes assumption? Why or why not?"
   ]
  },
  {
   "cell_type": "code",
   "execution_count": 15,
   "metadata": {},
   "outputs": [
    {
     "name": "stdout",
     "output_type": "stream",
     "text": [
      "X-axis: w281_ico\n",
      "Y-axis: w273_tek\n"
     ]
    },
    {
     "data": {
      "image/png": "[encoded data removed]",
      "text/plain": [
       "<Figure size 432x288 with 1 Axes>"
      ]
     },
     "metadata": {
      "needs_background": "light"
     },
     "output_type": "display_data"
    }
   ],
   "source": [
    "# (1) # Your Code goes here:\n",
    "cs = scatter_jitter(news_clean['w281_ico'], news_clean['w273_tek'], jitter=0.8)\n",
    "print(\"X-axis: w281_ico\\nY-axis: w273_tek\")"
   ]
  },
  {
   "cell_type": "markdown",
   "metadata": {},
   "source": [
    "(2) ***Your answer goes here:***\n",
    "We can observe that most of the values from the two features are clustered in the lower valued areas of the plot. This does not impact the validity of naive bayes as long as the values are all greater than zero and there are no significant outliers, both of which do not occur here."
   ]
  },
  {
   "cell_type": "markdown",
   "metadata": {},
   "source": [
    "### ========== Question 2.4 --- [7 marks] ==========\n",
    "1. [Text] What is a reasonable baseline against which to compare the classiffication performance? *Hint: What is the simplest classiffier you can think of?*. \n",
    "1. [Code] Estimate the baseline performance on the *training* data in terms of classification accuracy."
   ]
  },
  {
   "cell_type": "markdown",
   "metadata": {},
   "source": [
    "(1) ***Your answer goes here:***\n",
    "A reasonable baseline would be to ignore all predictors and simply use the most common output in the class column to predict all future outputs. This is called the ZeroR (zero rules) baseline."
   ]
  },
  {
   "cell_type": "code",
   "execution_count": 55,
   "metadata": {},
   "outputs": [
    {
     "name": "stdout",
     "output_type": "stream",
     "text": [
      "Baseline prediction rate is  0.1729394949976179\n"
     ]
    }
   ],
   "source": [
    "# (2) # Your Code goes here:\n",
    "print(\"Baseline prediction rate is \", news_train['class'].value_counts()[1] / sum(news_train['class'].value_counts())) "
   ]
  },
  {
   "cell_type": "markdown",
   "metadata": {},
   "source": [
    "<a id='question_2_5'></a>\n",
    "### ========== Question 2.5 --- [12 marks] ==========\n",
    "\n",
    "1. [Code] Fit a Gaussian Naive Bayes model to the cleaned dataset. \n",
    "\n",
    "1. [Code] Report the classification accuracy on the **training** dataset and plot a Confusion Matrix for the result (labelling the axes appropriately).\n",
    "\n",
    "1. [Text] Comment on the performance of the model. Is the accuracy a reasonable metric to use for this dataset?\n",
    "\n",
    "*Hint: You may make use of utility functions we provided, as well as an sklearn method for computing confusion matrices*"
   ]
  },
  {
   "cell_type": "code",
   "execution_count": 28,
   "metadata": {},
   "outputs": [],
   "source": [
    "# (1) # Your Code goes here:\n",
    "xClean = news_clean.drop('class', axis=1)\n",
    "yClean = news_clean['class']\n",
    "clf = GaussianNB()\n",
    "fitClean = clf.fit(xClean, yClean)"
   ]
  },
  {
   "cell_type": "code",
   "execution_count": 31,
   "metadata": {},
   "outputs": [
    {
     "name": "stdout",
     "output_type": "stream",
     "text": [
      "Accuracy on the training dataset:  0.889947594092425\n"
     ]
    },
    {
     "data": {
      "text/plain": [
       "Text(0.5, 15.0, 'Predicted label')"
      ]
     },
     "execution_count": 31,
     "metadata": {},
     "output_type": "execute_result"
    },
    {
     "data": {
      "image/png": "[encoded data removed]",
      "text/plain": [
       "<Figure size 432x288 with 2 Axes>"
      ]
     },
     "metadata": {
      "needs_background": "light"
     },
     "output_type": "display_data"
    }
   ],
   "source": [
    "# (2) # Your Code goes here:\n",
    "    \n",
    "xTrain = news_train.drop('class', axis=1)\n",
    "yTrain = news_train['class']\n",
    "\n",
    "cMatrix = sklearn.metrics.confusion_matrix(yTrain, fitClean.predict(xTrain))\n",
    "cNorm =  cMatrix / cMatrix.sum(axis=1)[:, np.newaxis]\n",
    "\n",
    "matrixClasses = ['alt.atheism', 'comp.sys.ibm.pc.hardware', 'comp.sys.mac.hardware', 'rec.sport.baseball', 'rec.sport.hockey']\n",
    "\n",
    "print(\"Accuracy on the training dataset: \", fitClean.score(xTrain, yTrain))\n",
    "\n",
    "# Based on function given in Lab 2\n",
    "if matrixClasses is not None:\n",
    "    sns.heatmap(cNorm, xticklabels=matrixClasses, yticklabels=matrixClasses, vmin=0., vmax=1., annot=True)\n",
    "else:\n",
    "    sns.heatmap(cNorm, vmin=0., vmax=1.)\n",
    "    \n",
    "plt.title(\"Training Confusion Matrix\")\n",
    "plt.ylabel('True label')\n",
    "plt.xlabel('Predicted label')\n"
   ]
  },
  {
   "cell_type": "markdown",
   "metadata": {},
   "source": [
    "(3) ***Your answer goes here:***\n",
    "The accuracy is about 89%. This is far more accurate than the baseline of simply going with the most likely outcome every time. I think that the accuracy is a reasonable predictor for future outcomes. "
   ]
  },
  {
   "cell_type": "markdown",
   "metadata": {},
   "source": [
    "### ========== Question 2.6 --- [3 marks] ==========\n",
    "\n",
    "[Text] Comment on the confusion matrix from the previous question. Does it look like what you would have expected? Explain."
   ]
  },
  {
   "cell_type": "markdown",
   "metadata": {},
   "source": [
    "***Your answer goes here:***"
   ]
  },
  {
   "cell_type": "markdown",
   "metadata": {},
   "source": [
    "### ========== Question 2.7 --- [12 marks] ==========\n",
    "\n",
    "Now we want to evaluate the generalisation of the classifier on new (i.e. unseen data). \n",
    "\n",
    "1. [Code] Use the classifier you trained in Question [2.5](#question_2_5) (i.e. on the cleaned dataset) and test its performance on the test dataset. Display classification accuracy and plot a confusion matrix of the performance on the test data. \n",
    "\n",
    "1. [Code] Also, reevaluate the performance of the baseline on the test data.\n",
    "\n",
    "1. [Text] In a short paragraph (3-4 sentences) compare and comment on the results with (a) the training data and (b) the baseline (on the test data)."
   ]
  },
  {
   "cell_type": "code",
   "execution_count": 32,
   "metadata": {},
   "outputs": [
    {
     "name": "stdout",
     "output_type": "stream",
     "text": [
      "Accuracy on the training dataset:  0.828125\n"
     ]
    },
    {
     "data": {
      "text/plain": [
       "Text(0.5, 15.0, 'Predicted label')"
      ]
     },
     "execution_count": 32,
     "metadata": {},
     "output_type": "execute_result"
    },
    {
     "data": {
      "image/png": "[encoded data removed]",
      "text/plain": [
       "<Figure size 432x288 with 2 Axes>"
      ]
     },
     "metadata": {
      "needs_background": "light"
     },
     "output_type": "display_data"
    }
   ],
   "source": [
    "# (1) # Your Code goes here:\n",
    "xTest = news_test.drop('class', axis=1)\n",
    "yTest = news_test['class']\n",
    "\n",
    "matrix = sklearn.metrics.confusion_matrix(yTest, fitClean.predict(xTest))\n",
    "norm =  matrix / matrix.sum(axis=1)[:, np.newaxis]\n",
    "\n",
    "print(\"Accuracy on the training dataset: \", fitClean.score(xTest, yTest))\n",
    "\n",
    "# Based on function given in Lab 2\n",
    "if matrixClasses is not None:\n",
    "    sns.heatmap(norm, xticklabels=matrixClasses, yticklabels=matrixClasses, vmin=0., vmax=1., annot=True)\n",
    "else:\n",
    "    sns.heatmap(norm, vmin=0., vmax=1.)\n",
    "    \n",
    "plt.title(\"Testing Confusion Matrix\")\n",
    "plt.ylabel('True label')\n",
    "plt.xlabel('Predicted label')"
   ]
  },
  {
   "cell_type": "code",
   "execution_count": 54,
   "metadata": {},
   "outputs": [
    {
     "name": "stdout",
     "output_type": "stream",
     "text": [
      "Baseline prediction on test data has a success rate of:  0.15625\n"
     ]
    }
   ],
   "source": [
    "# (2) # Your Code goes here:\n",
    "print(\"Baseline prediction on test data has a success rate of: \", news_test['class'].value_counts()[1] / sum(news_test['class'].value_counts()))"
   ]
  },
  {
   "cell_type": "markdown",
   "metadata": {},
   "source": [
    "(3) ***Your answer goes here:***\n",
    "The performance on the test dataset is slightly lower than on the training dataset. On the test dataset, the performance is about 83% comparted to 89% on the training dataset. The result is still a very reasonable success rate, especially compared to the ZeroR baseline which has about a 15.6% success rate. The ZeroR rate was calculated by assuming that the classification is always the most popular choice."
   ]
  },
  {
   "cell_type": "markdown",
   "metadata": {},
   "source": [
    "### ========== Question 2.8 --- (LEVEL 11) --- [7 marks] ==========\n",
    "1. [Code] Fit a Gaussian Naive Bayes model to the original raw dataset (including the outliers) and test its performance on the **test** set. \n",
    "\n",
    "1. [Text] Comment on the output and explain why or why not cleaning affects the classifier."
   ]
  },
  {
   "cell_type": "code",
   "execution_count": 63,
   "metadata": {},
   "outputs": [
    {
     "name": "stdout",
     "output_type": "stream",
     "text": [
      "Accuracy on the test dataset:  0.171875\n"
     ]
    }
   ],
   "source": [
    "# (1) # Your Code goes here:\n",
    "xRaw = news_raw.drop('class', axis=1)\n",
    "yRaw = news_raw['class']\n",
    "gnbRaw = GaussianNB()\n",
    "fitRaw = gnbRaw.fit(xRaw, yRaw)\n",
    "\n",
    "print(\"Accuracy on the test dataset: \", fitRaw.score(xTest, yTest))"
   ]
  },
  {
   "cell_type": "markdown",
   "metadata": {},
   "source": [
    "(2) ***Your answer goes here:***\n",
    "The accuracy from the fit raw dataset model is significantly lower at about 17% compared to 83% from the cleaned dataset model. Cleaning the dataset greatly effects the classifier because it greatly restricts the predictions to values that we know are possible."
   ]
  },
  {
   "cell_type": "markdown",
   "metadata": {},
   "source": [
    "### ========== Question 2.9 --- (LEVEL 11) --- [3 marks] ==========\n",
    "\n",
    "In this exercise we have fitted a Gaussian Naive Bayes classifier to the data (i.e. the class conditional densities are Gaussians). However, this is not ideally suited to our dataset. Can you explain why this is so? what kind of Naive Bayes model would you employ to this kind of data?"
   ]
  },
  {
   "cell_type": "markdown",
   "metadata": {},
   "source": [
    "***Your answer goes here:***\n",
    "It is not ideal for this dataset because Gaussian Naive Bayes works best only when there is a normal distribution. This is not the case in the dataset we were given. An alternative version that we could use is Multinomial Naive Bayes."
   ]
  }
 ],
 "metadata": {
  "kernelspec": {
   "display_name": "Python 3",
   "language": "python",
   "name": "python3"
  },
  "language_info": {
   "codemirror_mode": {
    "name": "ipython",
    "version": 3
   },
   "file_extension": ".py",
   "mimetype": "text/x-python",
   "name": "python",
   "nbconvert_exporter": "python",
   "pygments_lexer": "ipython3",
   "version": "3.7.0"
  }
 },
 "nbformat": 4,
 "nbformat_minor": 1
}
